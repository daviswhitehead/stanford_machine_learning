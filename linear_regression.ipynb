{
 "cells": [
  {
   "cell_type": "markdown",
   "metadata": {
    "collapsed": true
   },
   "source": [
    "# Linear Regression  \n",
    "Purpose is to show an example of a linear regression machine learning implementation in Python.\n",
    "Based off of Stanford University's Machine Learning by Andrew NG."
   ]
  },
  {
   "cell_type": "markdown",
   "metadata": {},
   "source": [
    "### Hypothesis Function\n",
    "The Hypothesis Function formulates the relationship between the dependent and independent variables. Hypothesis functions have the general form:\n",
    "$$h_{\\theta}(x)  =  \\theta_{0} + \\theta_{1}x + ... + \\theta_{n}x$$  \n",
    "\n",
    "You can think of the hypothesis function as a functional mapping of an input X to an output y. Consider the following dataset. Let's say we're interested in predicting housing prices. We have a table of flattened data on houses (each row is a home) with the size of each house in square feet, the number of bedrooms, and the house price. We can use linear regression to _weigh_ and _isolate_ the effect each independent variable has on the dependent variable (house price). In this case, our hypothesis function would look like:\n",
    "$$h_{\\theta}(x)  =  \\theta_{0} + \\theta_{1}x_{1} + \\theta_{2}x_{2}$$  \n",
    "$$h_{\\theta}(x)  =  \\theta_{0} + \\theta_{1}sqfeet_{1} + \\theta_{2}rooms_{2}$$  "
   ]
  },
  {
   "cell_type": "markdown",
   "metadata": {},
   "source": [
    "Here's what our data actually looks like:"
   ]
  },
  {
   "cell_type": "code",
   "execution_count": 182,
   "metadata": {
    "collapsed": false
   },
   "outputs": [
    {
     "name": "stdout",
     "output_type": "stream",
     "text": [
      "(47, 4)\n",
      "sqfeet       int64\n",
      "rooms        int64\n",
      "price        int64\n",
      "intercept    int64\n",
      "dtype: object\n",
      "            sqfeet      rooms          price  intercept\n",
      "count    47.000000  47.000000      47.000000         47\n",
      "mean   2000.680851   3.170213  340412.659574          1\n",
      "std     794.702354   0.760982  125039.899586          0\n",
      "min     852.000000   1.000000  169900.000000          1\n",
      "25%    1432.000000   3.000000  249900.000000          1\n",
      "50%    1888.000000   3.000000  299900.000000          1\n",
      "75%    2269.000000   4.000000  384450.000000          1\n",
      "max    4478.000000   5.000000  699900.000000          1\n",
      "   sqfeet  rooms   price  intercept\n",
      "0    2104      3  399900          1\n",
      "1    1600      3  329900          1\n",
      "2    2400      3  369000          1\n",
      "3    1416      2  232000          1\n",
      "4    3000      4  539900          1\n"
     ]
    }
   ],
   "source": [
    "import pandas as pd\n",
    "import numpy as np\n",
    "\n",
    "ex1data2 = 'ex1/ex1data2.txt'\n",
    "cols = ['sqfeet', 'rooms', 'price']\n",
    "y_col = ['price']\n",
    "\n",
    "df = pd.read_csv(\n",
    "    filepath_or_buffer=ex1data2,\n",
    "    delimiter=',',\n",
    "    names=cols\n",
    ")\n",
    "df['intercept'] = 1\n",
    "cols.append('intercept')\n",
    "\n",
    "print df.shape\n",
    "print df.dtypes\n",
    "print df.describe()\n",
    "print df.head(5)\n"
   ]
  },
  {
   "cell_type": "markdown",
   "metadata": {},
   "source": [
    "Next lets create the matrices needed for linear algebra"
   ]
  },
  {
   "cell_type": "code",
   "execution_count": 183,
   "metadata": {
    "collapsed": false
   },
   "outputs": [
    {
     "name": "stdout",
     "output_type": "stream",
     "text": [
      "y shape: (47, 1)\n",
      "y preview: \n",
      " [[399900]\n",
      " [329900]\n",
      " [369000]\n",
      " [232000]\n",
      " [539900]]\n",
      "X shape: (47, 3)\n",
      "X preview: \n",
      " [[2104    3    1]\n",
      " [1600    3    1]\n",
      " [2400    3    1]\n",
      " [1416    2    1]\n",
      " [3000    4    1]]\n",
      "theta shape: (3, 1)\n",
      "theta preview: \n",
      " [[ 0.]\n",
      " [ 0.]\n",
      " [ 0.]]\n"
     ]
    }
   ],
   "source": [
    "y = df.as_matrix(columns=y_col)\n",
    "print 'y shape: {}'.format(y.shape)\n",
    "print 'y preview: \\n {}'.format(y[:5])\n",
    "X = df.as_matrix(columns=[x for x in cols if x not in y_col])\n",
    "print 'X shape: {}'.format(X.shape)\n",
    "print 'X preview: \\n {}'.format(X[:5])\n",
    "theta = np.zeros((X.shape[1], 1))\n",
    "print 'theta shape: {}'.format(theta.shape)\n",
    "print 'theta preview: \\n {}'.format(theta[:5])"
   ]
  },
  {
   "cell_type": "code",
   "execution_count": 184,
   "metadata": {
    "collapsed": false
   },
   "outputs": [
    {
     "name": "stdout",
     "output_type": "stream",
     "text": [
      "[[  1.31415422e-01  -2.26093368e-01   1.00000000e+00]\n",
      " [ -5.09640698e-01  -2.26093368e-01   1.00000000e+00]\n",
      " [  5.07908699e-01  -2.26093368e-01   1.00000000e+00]\n",
      " [ -7.43677059e-01  -1.55439190e+00   1.00000000e+00]\n",
      " [  1.27107075e+00   1.10220517e+00   1.00000000e+00]\n",
      " [ -1.99450507e-02   1.10220517e+00   1.00000000e+00]\n",
      " [ -5.93588523e-01  -2.26093368e-01   1.00000000e+00]\n",
      " [ -7.29685755e-01  -2.26093368e-01   1.00000000e+00]\n",
      " [ -7.89466782e-01  -2.26093368e-01   1.00000000e+00]\n",
      " [ -6.44465993e-01  -2.26093368e-01   1.00000000e+00]\n",
      " [ -7.71822042e-02   1.10220517e+00   1.00000000e+00]\n",
      " [ -8.65999486e-04  -2.26093368e-01   1.00000000e+00]\n",
      " [ -1.40779041e-01  -2.26093368e-01   1.00000000e+00]\n",
      " [  3.15099326e+00   2.43050370e+00   1.00000000e+00]\n",
      " [ -9.31923697e-01  -2.26093368e-01   1.00000000e+00]\n",
      " [  3.80715024e-01   1.10220517e+00   1.00000000e+00]\n",
      " [ -8.65782986e-01  -1.55439190e+00   1.00000000e+00]\n",
      " [ -9.72625673e-01  -2.26093368e-01   1.00000000e+00]\n",
      " [  7.73743478e-01   1.10220517e+00   1.00000000e+00]\n",
      " [  1.31050078e+00   1.10220517e+00   1.00000000e+00]\n",
      " [ -2.97227261e-01  -2.26093368e-01   1.00000000e+00]\n",
      " [ -1.43322915e-01  -1.55439190e+00   1.00000000e+00]\n",
      " [ -5.04552951e-01  -2.26093368e-01   1.00000000e+00]\n",
      " [ -4.91995958e-02   1.10220517e+00   1.00000000e+00]\n",
      " [  2.40309445e+00  -2.26093368e-01   1.00000000e+00]\n",
      " [ -1.14560907e+00  -2.26093368e-01   1.00000000e+00]\n",
      " [ -6.90255715e-01  -2.26093368e-01   1.00000000e+00]\n",
      " [  6.68172729e-01  -2.26093368e-01   1.00000000e+00]\n",
      " [  2.53521350e-01  -2.26093368e-01   1.00000000e+00]\n",
      " [  8.09357707e-01  -2.26093368e-01   1.00000000e+00]\n",
      " [ -2.05647815e-01  -1.55439190e+00   1.00000000e+00]\n",
      " [ -1.27280274e+00  -2.88269044e+00   1.00000000e+00]\n",
      " [  5.00114703e-02   1.10220517e+00   1.00000000e+00]\n",
      " [  1.44532608e+00  -2.26093368e-01   1.00000000e+00]\n",
      " [ -2.41262044e-01   1.10220517e+00   1.00000000e+00]\n",
      " [ -7.16966387e-01  -2.26093368e-01   1.00000000e+00]\n",
      " [ -9.68809863e-01  -2.26093368e-01   1.00000000e+00]\n",
      " [  1.67029651e-01   1.10220517e+00   1.00000000e+00]\n",
      " [  2.81647389e+00   1.10220517e+00   1.00000000e+00]\n",
      " [  2.05187753e-01   1.10220517e+00   1.00000000e+00]\n",
      " [ -4.28236746e-01  -1.55439190e+00   1.00000000e+00]\n",
      " [  3.01854946e-01  -2.26093368e-01   1.00000000e+00]\n",
      " [  7.20322135e-01   1.10220517e+00   1.00000000e+00]\n",
      " [ -1.01841540e+00  -2.26093368e-01   1.00000000e+00]\n",
      " [ -1.46104938e+00  -1.55439190e+00   1.00000000e+00]\n",
      " [ -1.89112638e-01   1.10220517e+00   1.00000000e+00]\n",
      " [ -1.01459959e+00  -2.26093368e-01   1.00000000e+00]]\n"
     ]
    }
   ],
   "source": [
    "def feature_normalize(X):\n",
    "    Z = np.zeros(X.shape)\n",
    "    for i in range(X.shape[1]):\n",
    "        # bias term handling\n",
    "        if np.array_equal(X[:,i], np.ones(X.shape[0])):\n",
    "            Z[:,i] = np.ones(X.shape[0])\n",
    "        else:\n",
    "            # xi = (xi - xibar) / std(xi)\n",
    "            Z[:,i] = (X[:,i] - np.mean(X[:,i]))/np.std(X[:,i])\n",
    "    return Z\n",
    "Z = feature_normalize(X)\n",
    "print Z"
   ]
  },
  {
   "cell_type": "markdown",
   "metadata": {},
   "source": [
    "From here, we can solve directly for theta with normal equations"
   ]
  },
  {
   "cell_type": "code",
   "execution_count": 197,
   "metadata": {
    "collapsed": false
   },
   "outputs": [
    {
     "name": "stdout",
     "output_type": "stream",
     "text": [
      "[[ 109447.79646964]\n",
      " [  -6578.35485416]\n",
      " [ 340412.65957447]]\n",
      "[[   139.21067402]\n",
      " [ -8738.01911233]\n",
      " [ 89597.9095428 ]]\n"
     ]
    }
   ],
   "source": [
    "# normal equation\n",
    "def normal_equation_linear_regression(y, X):\n",
    "    return np.dot(np.dot(np.linalg.inv(np.dot(np.transpose(X), X)), X.T), y)\n",
    "print normal_equation_linear_regression(y, Z)\n",
    "print normal_equation_linear_regression(y, X)"
   ]
  },
  {
   "cell_type": "code",
   "execution_count": 186,
   "metadata": {
    "collapsed": false
   },
   "outputs": [],
   "source": [
    "# gradient descent\n",
    "alpha = 1.0\n",
    "def gradient_descent_linear_regression(y, X, alpha, theta):\n",
    "    # theta = theta - (alpha / m) * X' * (X * theta - y)\n",
    "    m = X.shape[0]\n",
    "    return theta - (alpha / m) * np.dot(np.transpose(X), (np.dot(X, theta) - y))\n",
    "\n",
    "def cost_linear_regression(y, X, theta):\n",
    "    # cost = (1 / (2 * m)) * (X * theta - y)' * (X * theta - y)\n",
    "    m = X.shape[0]\n",
    "    return (1.0/(2.0*m)) * np.dot(np.transpose((np.dot(X, theta) - y)), (np.dot(X, theta) - y))\n"
   ]
  },
  {
   "cell_type": "code",
   "execution_count": 193,
   "metadata": {
    "collapsed": false
   },
   "outputs": [
    {
     "name": "stdout",
     "output_type": "stream",
     "text": [
      "y shape: (47, 1)\n",
      "y preview: \n",
      " [[399900]\n",
      " [329900]\n",
      " [369000]\n",
      " [232000]\n",
      " [539900]]\n",
      "X shape: (47, 3)\n",
      "X preview: \n",
      " [[2104    3    1]\n",
      " [1600    3    1]\n",
      " [2400    3    1]\n",
      " [1416    2    1]\n",
      " [3000    4    1]]\n",
      "theta shape: (3, 1)\n",
      "theta preview: \n",
      " [[ 0.]\n",
      " [ 0.]\n",
      " [ 0.]]\n",
      "[[  5.56986495e+10]]\n",
      "[[  4.73818892e+10]]\n",
      "[[  4.03837965e+10]]\n",
      "[[  3.44902416e+10]]\n",
      "[[  2.95228714e+10]]\n",
      "[[  2.53329216e+10]]\n",
      "[[  2.17961428e+10]]\n",
      "[[  1.88086313e+10]]\n",
      "[[  1.62833963e+10]]\n",
      "[[  1.41475276e+10]]\n",
      "[[  1.23398547e+10]]\n",
      "[[  1.08090075e+10]]\n",
      "[[  9.51180881e+09]]\n",
      "[[  8.41193716e+09]]\n",
      "[[  7.47881535e+09]]\n",
      "[[  6.68668347e+09]]\n",
      "[[  6.01382550e+09]]\n",
      "[[  5.44192307e+09]]\n",
      "[[  4.95551483e+09]]\n",
      "[[  4.54154367e+09]]\n",
      "[[  4.18897711e+09]]\n",
      "[[  3.88848881e+09]]\n",
      "[[  3.63219093e+09]]\n",
      "[[  3.41340931e+09]]\n",
      "[[  3.22649422e+09]]\n",
      "[[  3.06666112e+09]]\n",
      "[[  2.92985645e+09]]\n",
      "[[  2.81264456e+09]]\n",
      "[[  2.71211234e+09]]\n",
      "[[  2.62578869e+09]]\n",
      "[[  2.55157665e+09]]\n",
      "[[  2.48769592e+09]]\n",
      "[[  2.43263445e+09]]\n",
      "[[  2.38510742e+09]]\n",
      "[[  2.34402259e+09]]\n",
      "[[  2.30845095e+09]]\n",
      "[[  2.27760196e+09]]\n",
      "[[  2.25080253e+09]]\n",
      "[[  2.22747924e+09]]\n",
      "[[  2.20714328e+09]]\n",
      "[[  2.18937771e+09]]\n",
      "[[  2.17382662e+09]]\n",
      "[[  2.16018601e+09]]\n",
      "[[  2.14819596e+09]]\n",
      "[[  2.13763411e+09]]\n",
      "[[  2.12831002e+09]]\n",
      "[[  2.12006044e+09]]\n",
      "[[  2.11274529e+09]]\n",
      "[[  2.10624425e+09]]\n",
      "[[  2.10045381e+09]]\n"
     ]
    }
   ],
   "source": [
    "y = df.as_matrix(columns=y_col)\n",
    "print 'y shape: {}'.format(y.shape)\n",
    "print 'y preview: \\n {}'.format(y[:5])\n",
    "X = df.as_matrix(columns=[x for x in cols if x not in y_col])\n",
    "print 'X shape: {}'.format(X.shape)\n",
    "print 'X preview: \\n {}'.format(X[:5])\n",
    "theta = np.zeros((X.shape[1], 1))\n",
    "print 'theta shape: {}'.format(theta.shape)\n",
    "print 'theta preview: \\n {}'.format(theta[:5])\n",
    "\n",
    "thetas = []\n",
    "costs = []\n",
    "alpha = .079371\n",
    "cost = 0\n",
    "for x in range(50):\n",
    "    thetas.append(theta)\n",
    "    costs.append(cost)\n",
    "    theta = gradient_descent_linear_regression(y, Z, alpha, theta)\n",
    "    cost = cost_linear_regression(y, Z, theta)\n",
    "    print cost\n"
   ]
  },
  {
   "cell_type": "code",
   "execution_count": null,
   "metadata": {
    "collapsed": true
   },
   "outputs": [],
   "source": []
  }
 ],
 "metadata": {
  "kernelspec": {
   "display_name": "Python 2",
   "language": "python",
   "name": "python2"
  },
  "language_info": {
   "codemirror_mode": {
    "name": "ipython",
    "version": 2
   },
   "file_extension": ".py",
   "mimetype": "text/x-python",
   "name": "python",
   "nbconvert_exporter": "python",
   "pygments_lexer": "ipython2",
   "version": "2.7.10"
  }
 },
 "nbformat": 4,
 "nbformat_minor": 0
}
