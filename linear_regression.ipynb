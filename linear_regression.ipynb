{
 "cells": [
  {
   "cell_type": "markdown",
   "metadata": {
    "collapsed": true
   },
   "source": [
    "# Linear Regression  \n",
    "Purpose is to show an example of a linear regression machine learning implementation in Python.\n",
    "Based off of Stanford University's Machine Learning by Andrew NG."
   ]
  },
  {
   "cell_type": "markdown",
   "metadata": {},
   "source": [
    "### Hypothesis Function\n",
    "The Hypothesis Function formulates the relationship between the dependent and independent variables. Hypothesis functions have the general form:\n",
    "$$h_{\\theta}(x)  =  \\theta_{0} + \\theta_{1}x + ... + \\theta_{n}x$$  \n",
    "\n",
    "You can think of the hypothesis function as a functional mapping of an input X to an output y. Consider the following dataset. Let's say we're interested in predicting housing prices. We have a table of flattened data on houses (each row is a home) with the size of each house in square feet, the number of bedrooms, and the house price. We can use linear regression to _weigh_ and _isolate_ the effect each independent variable (sq feet or num bedrooms) has on the dependent variable (house price). In this case, our hypothesis function would look like:\n",
    "$$h_{\\theta}(x)  =  \\theta_{0} + \\theta_{1}x_{1} + \\theta_{2}x_{2}$$  \n",
    "$$h_{\\theta}(x)  =  \\theta_{0} + \\theta_{1}sqfeet_{1} + \\theta_{2}rooms_{2}$$  "
   ]
  },
  {
   "cell_type": "code",
   "execution_count": 16,
   "metadata": {
    "collapsed": false
   },
   "outputs": [
    {
     "name": "stdout",
     "output_type": "stream",
     "text": [
      "    sqfeet  rooms   price\n",
      "40    1664      2  368500\n",
      "1     1600      3  329900\n",
      "24    3890      3  573900\n",
      "12    1890      3  329999\n",
      "25    1100      3  249900\n"
     ]
    }
   ],
   "source": [
    "import pandas as pd\n",
    "\n",
    "df = pd.read_csv(\n",
    "    filepath_or_buffer='ex1/ex1data2.txt',\n",
    "    delimiter=',',\n",
    "    names=['sqfeet', 'rooms', 'price']\n",
    ")\n",
    "print df.sample(5)\n",
    "# y = Housing Prices\n",
    "# x1 = Size of House in Square Feet\n",
    "# x2 = Number of Bedrooms"
   ]
  },
  {
   "cell_type": "code",
   "execution_count": null,
   "metadata": {
    "collapsed": true
   },
   "outputs": [],
   "source": []
  }
 ],
 "metadata": {
  "kernelspec": {
   "display_name": "Python 2",
   "language": "python",
   "name": "python2"
  },
  "language_info": {
   "codemirror_mode": {
    "name": "ipython",
    "version": 2
   },
   "file_extension": ".py",
   "mimetype": "text/x-python",
   "name": "python",
   "nbconvert_exporter": "python",
   "pygments_lexer": "ipython2",
   "version": "2.7.10"
  }
 },
 "nbformat": 4,
 "nbformat_minor": 0
}
